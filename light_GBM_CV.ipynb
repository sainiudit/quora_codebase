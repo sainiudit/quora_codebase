{
 "cells": [
  {
   "cell_type": "code",
   "execution_count": 41,
   "metadata": {
    "collapsed": false
   },
   "outputs": [],
   "source": [
    "import numpy as np\n",
    "import pandas as pd\n",
    "from scipy import sparse\n",
    "import xgboost as xgb\n",
    "import random\n",
    "from sklearn.preprocessing import MinMaxScaler\n",
    "from scipy.stats import pearsonr\n",
    "from scipy import sparse as ssp\n",
    "from sklearn.preprocessing import LabelEncoder\n",
    "from sklearn.model_selection import train_test_split"
   ]
  },
  {
   "cell_type": "code",
   "execution_count": 42,
   "metadata": {
    "collapsed": false
   },
   "outputs": [],
   "source": [
    "df_train=pd.read_csv(\"train.csv\")"
   ]
  },
  {
   "cell_type": "code",
   "execution_count": 43,
   "metadata": {
    "collapsed": false
   },
   "outputs": [],
   "source": [
    "abhi_test=pd.read_csv(\"../input/rader/test_features.csv\")\n",
    "abhi_train=pd.read_csv(\"../input/rader/train_features.csv\")\n",
    "base_test=pd.read_csv(\"../input/rader/test_base_features.csv\")\n",
    "base_train=pd.read_csv(\"../input/rader/train_base_features.csv\")\n",
    "\n",
    "abhi_test=abhi_test.drop(['question1','question2'],axis=1)\n",
    "abhi_train=abhi_train.drop(['question1','question2'],axis=1)\n",
    "#base_test=base_test.drop(['question1','question2'],axis=1)\n",
    "#base_train=base_train.drop(['question1','question2'],axis=1)\n",
    "features=list(set(abhi_train.columns.tolist()).union(base_train.columns.tolist()))"
   ]
  },
  {
   "cell_type": "code",
   "execution_count": 44,
   "metadata": {
    "collapsed": true
   },
   "outputs": [],
   "source": [
    "train=pd.concat([abhi_train,base_train],axis=1)\n",
    "test=pd.concat([abhi_test,base_test],axis=1)"
   ]
  },
  {
   "cell_type": "code",
   "execution_count": 45,
   "metadata": {
    "collapsed": true
   },
   "outputs": [],
   "source": [
    "features=list(set(abhi_train.columns.tolist()).union(base_train.columns.tolist()))"
   ]
  },
  {
   "cell_type": "code",
   "execution_count": 46,
   "metadata": {
    "collapsed": true
   },
   "outputs": [],
   "source": [
    "import lightgbm as lgbm\n",
    "def runlgbm(train_X, train_y, test_X, test_y=None, feature_names=None, seed_val=0, num_rounds=500000,e_stoping_r=50): \n",
    "    t4_params = {\n",
    "        'boosting_type': 'gbdt', 'objective': 'binary', 'nthread': -1, 'silent': True,\n",
    "        'num_leaves': 6, 'learning_rate': 0.05, 'max_depth': 6,\n",
    "        'max_bin': 255, 'subsample_for_bin': 50000,\n",
    "        'subsample': 0.4, 'subsample_freq': 1, 'colsample_bytree': 0.4, 'reg_alpha':1, 'reg_lambda':0,\n",
    "        'min_split_gain': 0.5, 'min_child_weight': 1, 'min_child_samples': 10, 'scale_pos_weight': 1}\n",
    "\n",
    "    # they can be used directly to build a LGBMClassifier (which is wrapped in a sklearn fashion)\n",
    "    model = lgbm.sklearn.LGBMClassifier(n_estimators=num_rounds, seed=0, **t4_params)\n",
    "    \n",
    "    if test_y is not None:\n",
    "        model.fit(train_X,train_y,eval_set=[(train_X,train_y),(test_X, test_y)],verbose=50,early_stopping_rounds=e_stoping_r)\n",
    "    else:\n",
    "        model.fit(train_X,train_y)\n",
    "    pred_test_y = model.predict_proba(test_X)\n",
    "    return pred_test_y, model"
   ]
  },
  {
   "cell_type": "code",
   "execution_count": 47,
   "metadata": {
    "collapsed": false,
    "scrolled": true
   },
   "outputs": [],
   "source": [
    "\n",
    "#features=train.columns.tolist()\n",
    "#features.remove(\"question1\")\n",
    "#features.remove(\"question2\")\n",
    "def runXGB(train_X, train_y, test_X, test_y=None, feature_names=None, seed_val=321, num_rounds=2000):\n",
    "    param = {}\n",
    "    param['objective'] = 'binary:logistic'\n",
    "    param['eta'] = 0.03\n",
    "    param['max_depth'] = 6\n",
    "    param['silent'] = 1\n",
    "    param['eval_metric'] = \"logloss\"\n",
    "    param['min_child_weight'] = 1\n",
    "    param['subsample'] = 0.3\n",
    "    param['colsample_bytree'] = 0.3\n",
    "    param['seed'] = seed_val\n",
    "    #param['lambda'] = 0.005\n",
    "    param['alpha'] = 0.005\n",
    "    num_rounds = num_rounds\n",
    "\n",
    "    plst = list(param.items())\n",
    "    xgtrain = xgb.DMatrix(train_X, label=train_y)\n",
    "\n",
    "    if test_y is not None:\n",
    "        xgtest = xgb.DMatrix(test_X, label=test_y)\n",
    "        watchlist = [ (xgtrain,'train'), (xgtest, 'test') ]\n",
    "        model = xgb.train(plst, xgtrain, num_rounds, watchlist, early_stopping_rounds=20,verbose_eval=50)\n",
    "    else:\n",
    "        xgtest = xgb.DMatrix(test_X)\n",
    "        model = xgb.train(plst, xgtrain, num_rounds)\n",
    "\n",
    "    pred_test_y = model.predict(xgtest)\n",
    "    return pred_test_y, model"
   ]
  },
  {
   "cell_type": "code",
   "execution_count": 57,
   "metadata": {
    "collapsed": false
   },
   "outputs": [
    {
     "name": "stderr",
     "output_type": "stream",
     "text": [
      "/usr/local/lib/python2.7/dist-packages/ipykernel/__main__.py:15: FutureWarning: reshape is deprecated and will raise in a subsequent release. Please use .values.reshape(...) instead\n",
      "/usr/local/lib/python2.7/dist-packages/ipykernel/__main__.py:16: FutureWarning: reshape is deprecated and will raise in a subsequent release. Please use .values.reshape(...) instead\n",
      "/usr/local/lib/python2.7/dist-packages/ipykernel/__main__.py:22: FutureWarning: reshape is deprecated and will raise in a subsequent release. Please use .values.reshape(...) instead\n",
      "/usr/local/lib/python2.7/dist-packages/ipykernel/__main__.py:23: FutureWarning: reshape is deprecated and will raise in a subsequent release. Please use .values.reshape(...) instead\n",
      "/usr/local/lib/python2.7/dist-packages/ipykernel/__main__.py:30: FutureWarning: reshape is deprecated and will raise in a subsequent release. Please use .values.reshape(...) instead\n",
      "/usr/local/lib/python2.7/dist-packages/ipykernel/__main__.py:31: FutureWarning: reshape is deprecated and will raise in a subsequent release. Please use .values.reshape(...) instead\n",
      "/usr/local/lib/python2.7/dist-packages/ipykernel/__main__.py:36: FutureWarning: reshape is deprecated and will raise in a subsequent release. Please use .values.reshape(...) instead\n",
      "/usr/local/lib/python2.7/dist-packages/ipykernel/__main__.py:37: FutureWarning: reshape is deprecated and will raise in a subsequent release. Please use .values.reshape(...) instead\n"
     ]
    }
   ],
   "source": [
    "\n",
    "path=\"/home/udit/ipython/notebook/quora/input/input/\"\n",
    "#train = pd.read_csv(path+\"train_porter.csv\")    \n",
    "\n",
    "train_question1_tfidf = pd.read_pickle(path+'train_question1_tfidf.pkl')\n",
    "train_porter_interaction = pd.read_pickle(path+'train_porter_interaction.pkl')\n",
    "\n",
    "train_question1_tfidf = pd.read_pickle(path+'train_question1_tfidf.pkl')[:]\n",
    "test_question1_tfidf = pd.read_pickle(path+'test_question1_tfidf.pkl')[:]\n",
    "\n",
    "\n",
    "train_question2_tfidf = pd.read_pickle(path+'train_question2_tfidf.pkl')[:]\n",
    "test_question2_tfidf = pd.read_pickle(path+'test_question2_tfidf.pkl')[:]\n",
    "\n",
    "train_interaction = pd.read_pickle(path+'train_interaction.pkl')[:].reshape(-1,1)\n",
    "test_interaction = pd.read_pickle(path+'test_interaction.pkl')[:].reshape(-1,1)\n",
    "\n",
    "train_interaction=np.nan_to_num(train_interaction)\n",
    "test_interaction=np.nan_to_num(test_interaction)      \n",
    "\n",
    "\n",
    "train_porter_interaction = pd.read_pickle(path+'train_porter_interaction.pkl')[:].reshape(-1,1)\n",
    "test_porter_interaction = pd.read_pickle(path+'test_porter_interaction.pkl')[:].reshape(-1,1)\n",
    "\n",
    "\n",
    "train_porter_interaction=np.nan_to_num(train_porter_interaction)\n",
    "test_porter_interaction=np.nan_to_num(test_porter_interaction)\n",
    "\n",
    "\n",
    "train_jaccard = pd.read_pickle(path+'train_jaccard.pkl')[:].reshape(-1,1)\n",
    "test_jaccard = pd.read_pickle(path+'test_jaccard.pkl')[:].reshape(-1,1)\n",
    "\n",
    "train_jaccard=np.nan_to_num(train_jaccard)\n",
    "test_jaccard=np.nan_to_num(test_jaccard)\n",
    "\n",
    "train_porter_jaccard = pd.read_pickle(path+'train_porter_jaccard.pkl')[:].reshape(-1,1)\n",
    "test_porter_jaccard = pd.read_pickle(path+'test_porter_jaccard.pkl')[:].reshape(-1,1)\n",
    "\n",
    "\n",
    "train_jaccard=np.nan_to_num(train_jaccard)\n",
    "test_porter_jaccard=np.nan_to_num(test_porter_jaccard)\n",
    "\n",
    "train_len = pd.read_pickle(path+\"train_len.pkl\")\n",
    "test_len = pd.read_pickle(path+\"test_len.pkl\")\n",
    "\n",
    "train_len=np.nan_to_num(train_len)\n",
    "test_len=np.nan_to_num(test_len) "
   ]
  },
  {
   "cell_type": "code",
   "execution_count": 49,
   "metadata": {
    "collapsed": false
   },
   "outputs": [
    {
     "data": {
      "text/plain": [
       "(404290, 48)"
      ]
     },
     "execution_count": 49,
     "metadata": {},
     "output_type": "execute_result"
    }
   ],
   "source": [
    "train[features].shape"
   ]
  },
  {
   "cell_type": "code",
   "execution_count": 60,
   "metadata": {
    "collapsed": false
   },
   "outputs": [],
   "source": [
    "#del df_train\n",
    "#del abhi_test\n",
    "#del base_test\n",
    "#del base_train\n",
    "#del abhi_train\n",
    "#import gc\n",
    "#gc.collect()\n",
    "from scipy import sparse as ssp\n",
    "X=ssp.csr_matrix(train[features])\n",
    "X_test=ssp.csr_matrix(test[features])"
   ]
  },
  {
   "cell_type": "code",
   "execution_count": 58,
   "metadata": {
    "collapsed": true
   },
   "outputs": [],
   "source": [
    "scaler = MinMaxScaler()\n",
    "scaler.fit(np.vstack([train_len,test_len]))\n",
    "train_len = scaler.transform(train_len)\n",
    "test_len =scaler.transform(test_len)"
   ]
  },
  {
   "cell_type": "code",
   "execution_count": 61,
   "metadata": {
    "collapsed": false
   },
   "outputs": [],
   "source": [
    "X_tr = ssp.hstack([\n",
    "    X,\n",
    "    train_question1_tfidf,\n",
    "    train_question2_tfidf,\n",
    "    train_interaction,\n",
    "    train_porter_interaction,\n",
    "    train_jaccard,\n",
    "    train_porter_jaccard,\n",
    "    train_len\n",
    "    ]).tocsr()\n",
    "\n",
    "del X"
   ]
  },
  {
   "cell_type": "code",
   "execution_count": 62,
   "metadata": {
    "collapsed": false
   },
   "outputs": [],
   "source": [
    "df_train=pd.read_csv(\"train.csv\",usecols=['id','is_duplicate'])\n",
    "y =df_train['is_duplicate'].values[:]\n",
    "\n",
    "X_t = ssp.hstack([\n",
    "    X_test,\n",
    "    test_question1_tfidf,\n",
    "    test_question2_tfidf,\n",
    "    test_interaction,\n",
    "    test_porter_interaction,\n",
    "    test_jaccard,\n",
    "    test_porter_jaccard,\n",
    "    test_len\n",
    "    ]).tocsr()\n",
    "\n",
    "del X_test"
   ]
  },
  {
   "cell_type": "code",
   "execution_count": 63,
   "metadata": {
    "collapsed": false,
    "scrolled": true
   },
   "outputs": [],
   "source": [
    "y =df_train['is_duplicate'].values[:]\n",
    "X_train, X_test, y_train, y_test = train_test_split(X_tr, y, test_size=0.20, random_state=42)\n",
    "preds, model = runXGB(X_tr, y,X_t,num_rounds=700)"
   ]
  },
  {
   "cell_type": "code",
   "execution_count": 65,
   "metadata": {
    "collapsed": true
   },
   "outputs": [],
   "source": [
    "test=pd.read_csv(\"test.csv\",usecols=['test_id'])"
   ]
  },
  {
   "cell_type": "code",
   "execution_count": 66,
   "metadata": {
    "collapsed": false
   },
   "outputs": [],
   "source": [
    "test.loc[:,\"is_duplicate\"]=preds"
   ]
  },
  {
   "cell_type": "code",
   "execution_count": 67,
   "metadata": {
    "collapsed": true
   },
   "outputs": [],
   "source": [
    "test.to_csv(\"only_xgb.csv\",index=False)"
   ]
  },
  {
   "cell_type": "code",
   "execution_count": 64,
   "metadata": {
    "collapsed": true
   },
   "outputs": [],
   "source": [
    "def fromsparsetofile(filename, array, deli1=\" \", deli2=\":\",ytarget=None):    \n",
    "    zsparse=csr_matrix(array)\n",
    "    indptr = zsparse.indptr\n",
    "    indices = zsparse.indices\n",
    "    data = zsparse.data\n",
    "    print(\" data lenth %d\" % (len(data)))\n",
    "    print(\" indices lenth %d\" % (len(indices)))    \n",
    "    print(\" indptr lenth %d\" % (len(indptr)))\n",
    "    \n",
    "    f=open(filename,\"w\")\n",
    "    counter_row=0\n",
    "    for b in range(0,len(indptr)-1):\n",
    "        #if there is a target, print it else , print nothing\n",
    "        if ytarget!=None:\n",
    "             f.write(str(ytarget[b]) + deli1)     \n",
    "             \n",
    "        for k in range(indptr[b],indptr[b+1]):\n",
    "            if (k==indptr[b]):\n",
    "                if np.isnan(data[k]):\n",
    "                    f.write(\"%d%s%f\" % (indices[k],deli2,-1))\n",
    "                else :\n",
    "                    f.write(\"%d%s%f\" % (indices[k],deli2,data[k]))                    \n",
    "            else :\n",
    "                if np.isnan(data[k]):\n",
    "                     f.write(\"%s%d%s%f\" % (deli1,indices[k],deli2,-1))  \n",
    "                else :\n",
    "                    f.write(\"%s%d%s%f\" % (deli1,indices[k],deli2,data[k]))\n",
    "        f.write(\"\\n\")\n",
    "        counter_row+=1\n",
    "        if counter_row%10000==0:    \n",
    "            print(\" row : %d \" % (counter_row))    \n",
    "    f.close()  "
   ]
  },
  {
   "cell_type": "code",
   "execution_count": 67,
   "metadata": {
    "collapsed": false
   },
   "outputs": [
    {
     "name": "stdout",
     "output_type": "stream",
     "text": [
      " data lenth 38582281\n",
      " indices lenth 38582281\n",
      " indptr lenth 404291\n"
     ]
    },
    {
     "name": "stderr",
     "output_type": "stream",
     "text": [
      "/usr/local/lib/python2.7/dist-packages/ipykernel/__main__.py:14: FutureWarning: comparison to `None` will result in an elementwise object comparison in the future.\n"
     ]
    },
    {
     "name": "stdout",
     "output_type": "stream",
     "text": [
      " row : 10000 \n",
      " row : 20000 \n",
      " row : 30000 \n",
      " row : 40000 \n",
      " row : 50000 \n",
      " row : 60000 \n",
      " row : 70000 \n",
      " row : 80000 \n",
      " row : 90000 \n",
      " row : 100000 \n",
      " row : 110000 \n",
      " row : 120000 \n",
      " row : 130000 \n",
      " row : 140000 \n",
      " row : 150000 \n",
      " row : 160000 \n",
      " row : 170000 \n",
      " row : 180000 \n",
      " row : 190000 \n",
      " row : 200000 \n",
      " row : 210000 \n",
      " row : 220000 \n",
      " row : 230000 \n",
      " row : 240000 \n",
      " row : 250000 \n",
      " row : 260000 \n",
      " row : 270000 \n",
      " row : 280000 \n",
      " row : 290000 \n",
      " row : 300000 \n",
      " row : 310000 \n",
      " row : 320000 \n",
      " row : 330000 \n",
      " row : 340000 \n",
      " row : 350000 \n",
      " row : 360000 \n",
      " row : 370000 \n",
      " row : 380000 \n",
      " row : 390000 \n",
      " row : 400000 \n",
      " data lenth 224877639\n",
      " indices lenth 224877639\n",
      " indptr lenth 2345797\n",
      " row : 10000 \n",
      " row : 20000 \n",
      " row : 30000 \n",
      " row : 40000 \n",
      " row : 50000 \n",
      " row : 60000 \n",
      " row : 70000 \n",
      " row : 80000 \n",
      " row : 90000 \n",
      " row : 100000 \n",
      " row : 110000 \n",
      " row : 120000 \n",
      " row : 130000 \n",
      " row : 140000 \n",
      " row : 150000 \n",
      " row : 160000 \n",
      " row : 170000 \n",
      " row : 180000 \n",
      " row : 190000 \n",
      " row : 200000 \n",
      " row : 210000 \n",
      " row : 220000 \n",
      " row : 230000 \n",
      " row : 240000 \n",
      " row : 250000 \n",
      " row : 260000 \n",
      " row : 270000 \n",
      " row : 280000 \n",
      " row : 290000 \n",
      " row : 300000 \n",
      " row : 310000 \n",
      " row : 320000 \n",
      " row : 330000 \n",
      " row : 340000 \n",
      " row : 350000 \n",
      " row : 360000 \n",
      " row : 370000 \n",
      " row : 380000 \n",
      " row : 390000 \n",
      " row : 400000 \n",
      " row : 410000 \n",
      " row : 420000 \n",
      " row : 430000 \n",
      " row : 440000 \n",
      " row : 450000 \n",
      " row : 460000 \n",
      " row : 470000 \n",
      " row : 480000 \n",
      " row : 490000 \n",
      " row : 500000 \n",
      " row : 510000 \n",
      " row : 520000 \n",
      " row : 530000 \n",
      " row : 540000 \n",
      " row : 550000 \n",
      " row : 560000 \n",
      " row : 570000 \n",
      " row : 580000 \n",
      " row : 590000 \n",
      " row : 600000 \n",
      " row : 610000 \n",
      " row : 620000 \n",
      " row : 630000 \n",
      " row : 640000 \n",
      " row : 650000 \n",
      " row : 660000 \n",
      " row : 670000 \n",
      " row : 680000 \n",
      " row : 690000 \n",
      " row : 700000 \n",
      " row : 710000 \n",
      " row : 720000 \n",
      " row : 730000 \n",
      " row : 740000 \n",
      " row : 750000 \n",
      " row : 760000 \n",
      " row : 770000 \n",
      " row : 780000 \n",
      " row : 790000 \n",
      " row : 800000 \n",
      " row : 810000 \n",
      " row : 820000 \n",
      " row : 830000 \n",
      " row : 840000 \n",
      " row : 850000 \n",
      " row : 860000 \n",
      " row : 870000 \n",
      " row : 880000 \n",
      " row : 890000 \n",
      " row : 900000 \n",
      " row : 910000 \n",
      " row : 920000 \n",
      " row : 930000 \n",
      " row : 940000 \n",
      " row : 950000 \n",
      " row : 960000 \n",
      " row : 970000 \n",
      " row : 980000 \n",
      " row : 990000 \n",
      " row : 1000000 \n",
      " row : 1010000 \n",
      " row : 1020000 \n",
      " row : 1030000 \n",
      " row : 1040000 \n",
      " row : 1050000 \n",
      " row : 1060000 \n",
      " row : 1070000 \n",
      " row : 1080000 \n",
      " row : 1090000 \n",
      " row : 1100000 \n",
      " row : 1110000 \n",
      " row : 1120000 \n",
      " row : 1130000 \n",
      " row : 1140000 \n",
      " row : 1150000 \n",
      " row : 1160000 \n",
      " row : 1170000 \n",
      " row : 1180000 \n",
      " row : 1190000 \n",
      " row : 1200000 \n",
      " row : 1210000 \n",
      " row : 1220000 \n",
      " row : 1230000 \n",
      " row : 1240000 \n",
      " row : 1250000 \n",
      " row : 1260000 \n",
      " row : 1270000 \n",
      " row : 1280000 \n",
      " row : 1290000 \n",
      " row : 1300000 \n",
      " row : 1310000 \n",
      " row : 1320000 \n",
      " row : 1330000 \n",
      " row : 1340000 \n",
      " row : 1350000 \n",
      " row : 1360000 \n",
      " row : 1370000 \n",
      " row : 1380000 \n",
      " row : 1390000 \n",
      " row : 1400000 \n",
      " row : 1410000 \n",
      " row : 1420000 \n",
      " row : 1430000 \n",
      " row : 1440000 \n",
      " row : 1450000 \n",
      " row : 1460000 \n",
      " row : 1470000 \n",
      " row : 1480000 \n",
      " row : 1490000 \n",
      " row : 1500000 \n",
      " row : 1510000 \n",
      " row : 1520000 \n",
      " row : 1530000 \n",
      " row : 1540000 \n",
      " row : 1550000 \n",
      " row : 1560000 \n",
      " row : 1570000 \n",
      " row : 1580000 \n",
      " row : 1590000 \n",
      " row : 1600000 \n",
      " row : 1610000 \n",
      " row : 1620000 \n",
      " row : 1630000 \n",
      " row : 1640000 \n",
      " row : 1650000 \n",
      " row : 1660000 \n",
      " row : 1670000 \n",
      " row : 1680000 \n",
      " row : 1690000 \n",
      " row : 1700000 \n",
      " row : 1710000 \n",
      " row : 1720000 \n",
      " row : 1730000 \n",
      " row : 1740000 \n",
      " row : 1750000 \n",
      " row : 1760000 \n",
      " row : 1770000 \n",
      " row : 1780000 \n",
      " row : 1790000 \n",
      " row : 1800000 \n",
      " row : 1810000 \n",
      " row : 1820000 \n",
      " row : 1830000 \n",
      " row : 1840000 \n",
      " row : 1850000 \n",
      " row : 1860000 \n",
      " row : 1870000 \n",
      " row : 1880000 \n",
      " row : 1890000 \n",
      " row : 1900000 \n",
      " row : 1910000 \n",
      " row : 1920000 \n",
      " row : 1930000 \n",
      " row : 1940000 \n",
      " row : 1950000 \n",
      " row : 1960000 \n",
      " row : 1970000 \n",
      " row : 1980000 \n",
      " row : 1990000 \n",
      " row : 2000000 \n",
      " row : 2010000 \n",
      " row : 2020000 \n",
      " row : 2030000 \n",
      " row : 2040000 \n",
      " row : 2050000 \n",
      " row : 2060000 \n",
      " row : 2070000 \n",
      " row : 2080000 \n",
      " row : 2090000 \n",
      " row : 2100000 \n",
      " row : 2110000 \n",
      " row : 2120000 \n",
      " row : 2130000 \n",
      " row : 2140000 \n",
      " row : 2150000 \n",
      " row : 2160000 \n",
      " row : 2170000 \n",
      " row : 2180000 \n",
      " row : 2190000 \n",
      " row : 2200000 \n",
      " row : 2210000 \n",
      " row : 2220000 \n",
      " row : 2230000 \n",
      " row : 2240000 \n",
      " row : 2250000 \n",
      " row : 2260000 \n",
      " row : 2270000 \n",
      " row : 2280000 \n",
      " row : 2290000 \n",
      " row : 2300000 \n",
      " row : 2310000 \n",
      " row : 2320000 \n",
      " row : 2330000 \n",
      " row : 2340000 \n"
     ]
    }
   ],
   "source": [
    "from scipy.sparse import csr_matrix,hstack\n",
    "fromsparsetofile(\"/home/udit/ipython/notebook/quora/input/input/all_features/train_intraction.sparse\", X_tr, deli1=\" \", deli2=\":\",ytarget=y)    \n",
    "fromsparsetofile(\"/home/udit/ipython/notebook/quora/input/input/all_features/test_intraction.sparse\", X_t, deli1=\" \", deli2=\":\",ytarget=None) "
   ]
  },
  {
   "cell_type": "code",
   "execution_count": 68,
   "metadata": {
    "collapsed": true
   },
   "outputs": [],
   "source": [
    "np.savez(\"/home/udit/ipython/notebook/quora/input/input/all_features/trainmatrix\", data=X_tr.data, indices=X_tr.indices,indptr=X_tr.indptr, shape=X_tr.shape)\n",
    "np.savez(\"/home/udit/ipython/notebook/quora/input/input/all_features/testmatrix\", data=X_t.data, indices=X_tr.indices,indptr=X_tr.indptr, shape=X_tr.shape)"
   ]
  },
  {
   "cell_type": "code",
   "execution_count": 14,
   "metadata": {
    "collapsed": false
   },
   "outputs": [],
   "source": [
    "path=\"/home/udit/ipython/notebook/quora/input/input/all_features/\"\n",
    "from scipy.sparse import csr_matrix\n",
    "loader = np.load(path+\"trainmatrix.npz\")\n",
    "X_tr=csr_matrix((loader['data'], loader['indices'], loader['indptr']),shape=loader['shape'])"
   ]
  },
  {
   "cell_type": "code",
   "execution_count": 8,
   "metadata": {
    "collapsed": false
   },
   "outputs": [],
   "source": [
    "X_tr=csr_matrix((loader['data'], loader['indices'], loader['indptr']),shape=loader['shape'])"
   ]
  },
  {
   "cell_type": "code",
   "execution_count": 16,
   "metadata": {
    "collapsed": false
   },
   "outputs": [],
   "source": [
    "loader = np.load(path+\"testmatrix.npz\")\n",
    "#X_t=csr_matrix((loader2['data'], loader2['indices'], loader2['indptr']),shape=loader2['shape'])"
   ]
  },
  {
   "cell_type": "code",
   "execution_count": 17,
   "metadata": {
    "collapsed": false
   },
   "outputs": [
    {
     "data": {
      "text/plain": [
       "(38582281, 224877639)"
      ]
     },
     "execution_count": 17,
     "metadata": {},
     "output_type": "execute_result"
    }
   ],
   "source": [
    "len(loader['indices']),len(loader['data'])"
   ]
  }
 ],
 "metadata": {
  "kernelspec": {
   "display_name": "Python 2",
   "language": "python",
   "name": "python2"
  },
  "language_info": {
   "codemirror_mode": {
    "name": "ipython",
    "version": 2
   },
   "file_extension": ".py",
   "mimetype": "text/x-python",
   "name": "python",
   "nbconvert_exporter": "python",
   "pygments_lexer": "ipython2",
   "version": "2.7.6"
  }
 },
 "nbformat": 4,
 "nbformat_minor": 1
}
