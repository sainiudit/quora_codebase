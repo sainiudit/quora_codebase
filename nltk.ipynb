{
 "cells": [
  {
   "cell_type": "code",
   "execution_count": 1,
   "metadata": {
    "collapsed": true
   },
   "outputs": [],
   "source": [
    "import nltk\n",
    "q1 = 'What are the minimum requirements to enter MIT?'\n",
    "q2 = 'How can I join MIT?'\n",
    "pos_q1, pos_q2 = nltk.pos_tag(nltk.word_tokenize(q1)), nltk.pos_tag(nltk.word_tokenize(q2))"
   ]
  },
  {
   "cell_type": "code",
   "execution_count": 3,
   "metadata": {
    "collapsed": false
   },
   "outputs": [],
   "source": [
    "ne_chunked_q1, ne_chunked_q2 = nltk.ne_chunk(pos_q1), nltk.ne_chunk(pos_q2)"
   ]
  },
  {
   "cell_type": "code",
   "execution_count": 34,
   "metadata": {
    "collapsed": false
   },
   "outputs": [],
   "source": [
    "file_to_read=\"querry_pred.csv\" # the scatcknet file\n",
    "second_file=\"xgb_seed12357_n315.csv\" # if you want you can replace for better score with \"\" if you want only stackent\n",
    "outputfile=\"stacknet_70_seed12357_30.csv\" #"
   ]
  },
  {
   "cell_type": "code",
   "execution_count": 35,
   "metadata": {
    "collapsed": true
   },
   "outputs": [],
   "source": [
    "if second_file!=\"\": # we open the second file if specified\n",
    "    tenp_preds=[]\n",
    "    #we load the 2nd file\n",
    "    file2nd=open(second_file, \"r\")\n",
    "    file2nd.readline()# header\n",
    "    for line in file2nd:\n",
    "        splits=line.replace(\"\\n\",\"\").split(\",\")  \n",
    "        tenp_preds.append(float(splits[1]))\n",
    "    file2nd.close()\n",
    "    \n",
    "file_pred=open(file_to_read, \"r\") # the stacknet prediction file\n",
    "file_to_print=open(outputfile,\"w\")# the file to print\n",
    "file_to_print.write(\"test_id,is_duplicate\\n\") # write the header\n",
    "counter=0\n"
   ]
  },
  {
   "cell_type": "code",
   "execution_count": 36,
   "metadata": {
    "collapsed": false
   },
   "outputs": [
    {
     "name": "stdout",
     "output_type": "stream",
     "text": [
      "0\n"
     ]
    },
    {
     "ename": "ValueError",
     "evalue": "could not convert string to float: pred1",
     "output_type": "error",
     "traceback": [
      "\u001b[0;31m---------------------------------------------------------------------------\u001b[0m",
      "\u001b[0;31mValueError\u001b[0m                                Traceback (most recent call last)",
      "\u001b[0;32m<ipython-input-36-6365c2bc1fb2>\u001b[0m in \u001b[0;36m<module>\u001b[0;34m()\u001b[0m\n\u001b[1;32m      4\u001b[0m     \u001b[0;32mif\u001b[0m \u001b[0msecond_file\u001b[0m\u001b[0;34m!=\u001b[0m\u001b[0;34m\"\"\u001b[0m\u001b[0;34m:\u001b[0m\u001b[0;34m\u001b[0m\u001b[0m\n\u001b[1;32m      5\u001b[0m         \u001b[0;32mprint\u001b[0m\u001b[0;34m(\u001b[0m\u001b[0mcounter\u001b[0m\u001b[0;34m)\u001b[0m\u001b[0;34m\u001b[0m\u001b[0m\n\u001b[0;32m----> 6\u001b[0;31m         \u001b[0mfile_to_print\u001b[0m\u001b[0;34m.\u001b[0m\u001b[0mwrite\u001b[0m\u001b[0;34m(\u001b[0m\u001b[0;34m\"%d,%f\\n\"\u001b[0m \u001b[0;34m%\u001b[0m\u001b[0;34m(\u001b[0m\u001b[0mcounter\u001b[0m\u001b[0;34m,\u001b[0m\u001b[0mfloat\u001b[0m\u001b[0;34m(\u001b[0m\u001b[0msplits\u001b[0m\u001b[0;34m[\u001b[0m\u001b[0;36m1\u001b[0m\u001b[0;34m]\u001b[0m\u001b[0;34m)\u001b[0m\u001b[0;34m*\u001b[0m\u001b[0;36m0.7\u001b[0m \u001b[0;34m+\u001b[0m\u001b[0mtenp_preds\u001b[0m\u001b[0;34m[\u001b[0m\u001b[0mcounter\u001b[0m\u001b[0;34m]\u001b[0m\u001b[0;34m*\u001b[0m\u001b[0;36m0.3\u001b[0m \u001b[0;34m)\u001b[0m\u001b[0;34m)\u001b[0m \u001b[0;31m#70% stacknet, 30% the other\u001b[0m\u001b[0;34m\u001b[0m\u001b[0m\n\u001b[0m\u001b[1;32m      7\u001b[0m     \u001b[0;32melse\u001b[0m \u001b[0;34m:\u001b[0m\u001b[0;34m\u001b[0m\u001b[0m\n\u001b[1;32m      8\u001b[0m         \u001b[0mfile_to_print\u001b[0m\u001b[0;34m.\u001b[0m\u001b[0mwrite\u001b[0m\u001b[0;34m(\u001b[0m\u001b[0;34m\"%d,%f\\n\"\u001b[0m \u001b[0;34m%\u001b[0m\u001b[0;34m(\u001b[0m\u001b[0mcounter\u001b[0m\u001b[0;34m,\u001b[0m\u001b[0mfloat\u001b[0m\u001b[0;34m(\u001b[0m\u001b[0msplits\u001b[0m\u001b[0;34m[\u001b[0m\u001b[0;36m1\u001b[0m\u001b[0;34m]\u001b[0m\u001b[0;34m)\u001b[0m\u001b[0;34m)\u001b[0m\u001b[0;34m)\u001b[0m\u001b[0;34m\u001b[0m\u001b[0m\n",
      "\u001b[0;31mValueError\u001b[0m: could not convert string to float: pred1"
     ]
    }
   ],
   "source": [
    "for line in file_pred:\n",
    "    splits=line.replace(\"\\n\",\"\").split(\",\") \n",
    "    #print to the new file\n",
    "    if second_file!=\"\":\n",
    "        print(counter)\n",
    "        file_to_print.write(\"%d,%f\\n\" %(counter,float(splits[1])*0.7 +tenp_preds[counter]*0.3 )) #70% stacknet, 30% the other\n",
    "    else :\n",
    "        file_to_print.write(\"%d,%f\\n\" %(counter,float(splits[1])))\n",
    "    counter+=1\n",
    "    if counter%100000==0:\n",
    "        print( \" printing row %d \" % (counter))\n",
    "    \n",
    "file_pred.close()\n",
    "file_to_print.close()"
   ]
  }
 ],
 "metadata": {
  "kernelspec": {
   "display_name": "Python 2",
   "language": "python",
   "name": "python2"
  },
  "language_info": {
   "codemirror_mode": {
    "name": "ipython",
    "version": 2
   },
   "file_extension": ".py",
   "mimetype": "text/x-python",
   "name": "python",
   "nbconvert_exporter": "python",
   "pygments_lexer": "ipython2",
   "version": "2.7.6"
  }
 },
 "nbformat": 4,
 "nbformat_minor": 1
}
