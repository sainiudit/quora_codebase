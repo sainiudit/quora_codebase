{
 "cells": [
  {
   "cell_type": "code",
   "execution_count": 7,
   "metadata": {
    "collapsed": false
   },
   "outputs": [],
   "source": [
    "import gensim\n",
    "import numpy as np\n",
    "embedder = gensim.models.word2vec.KeyedVectors.load_word2vec_format('../lstm/GoogleNews-vectors-negative300.bin', binary=True)"
   ]
  },
  {
   "cell_type": "code",
   "execution_count": 58,
   "metadata": {
    "collapsed": true
   },
   "outputs": [],
   "source": [
    "import re\n",
    "def calc_w2v_sim(question1,question2):\n",
    "    '''\n",
    "    Calc w2v similarities and diff of centers of query\\title\n",
    "    '''\n",
    "    question1=re.sub(r'[^\\x00-\\x7f]',r' ',question1)\n",
    "    question2=re.sub(r'[^\\x00-\\x7f]',r' ',question2)\n",
    "    a2 = [x for x in question1.lower().split() if x in embedder.vocab]\n",
    "    b2 = [x for x in question2.lower().split() if x in embedder.vocab]\n",
    "    if len(a2)>0 and len(b2)>0:\n",
    "        w2v_sim = embedder.n_similarity(a2, b2)\n",
    "    else:\n",
    "        return((-1, -1, np.zeros(300)))\n",
    "    \n",
    "    vectorA = np.zeros(300)\n",
    "    for w in a2:\n",
    "        vectorA += embedder[w]\n",
    "    vectorA /= len(a2)\n",
    "\n",
    "    vectorB = np.zeros(300)\n",
    "    for w in b2:\n",
    "        vectorB += embedder[w]\n",
    "    vectorB /= len(b2)\n",
    "\n",
    "    vector_diff = (vectorA - vectorB)\n",
    "\n",
    "    w2v_vdiff_dist = np.sqrt(np.sum(vector_diff**2))\n",
    "    return w2v_sim, w2v_vdiff_dist, vector_diff"
   ]
  },
  {
   "cell_type": "code",
   "execution_count": 6,
   "metadata": {
    "collapsed": true
   },
   "outputs": [],
   "source": [
    "train_df = pd.read_csv(\"train_porter.csv\", encoding='utf-8').fillna('')\n",
    "test_df  = pd.read_csv(\"test_porter.csv\", encoding='utf-8').fillna('')"
   ]
  },
  {
   "cell_type": "code",
   "execution_count": 59,
   "metadata": {
    "collapsed": false
   },
   "outputs": [],
   "source": [
    "X_w2v = []\n",
    "sim_list = []\n",
    "dist_list = []\n",
    "for i,row in train_df.iterrows():\n",
    "    sim, dist, vdiff = calc_w2v_sim(row['question1_porter'],row['question2_porter'])\n",
    "    X_w2v.append(vdiff)\n",
    "    sim_list.append(sim)\n",
    "    dist_list.append(dist)\n",
    "X_w2v_tr = np.array(X_w2v)\n",
    "train_df['w2v_sim'] = np.array(sim_list)\n",
    "train_df['w2v_dist'] = np.array(dist_list)"
   ]
  },
  {
   "cell_type": "code",
   "execution_count": 60,
   "metadata": {
    "collapsed": true
   },
   "outputs": [],
   "source": [
    "path=\"/home/udit/ipython/notebook/quora/input/input/\"\n",
    "pd.to_pickle(sim_list,path+\"train_porter_w2vecsim.pkl\")\n",
    "pd.to_pickle(dist_list,path+\"train_porter_w2vecdist.pkl\")\n",
    "pd.to_pickle(X_w2v_tr,path+\"train_porter_w2vecvector_diff.pkl\")"
   ]
  },
  {
   "cell_type": "code",
   "execution_count": null,
   "metadata": {
    "collapsed": false
   },
   "outputs": [],
   "source": [
    "X_w2v = []\n",
    "sim_list = []\n",
    "dist_list = []\n",
    "for i,row in test_df.iterrows():\n",
    "    sim, dist, vdiff = calc_w2v_sim(row['question1_porter'],row['question2_porter'])\n",
    "    X_w2v.append(vdiff)\n",
    "    sim_list.append(sim)\n",
    "    dist_list.append(dist)\n",
    "X_w2v_te = np.array(X_w2v)\n",
    "test_df['w2v_sim'] = np.array(sim_list)\n",
    "test_df['w2v_dist'] = np.array(dist_list)"
   ]
  },
  {
   "cell_type": "code",
   "execution_count": null,
   "metadata": {
    "collapsed": true
   },
   "outputs": [],
   "source": [
    "pd.to_pickle(sim_list,path+\"test_porter_w2vecsim.pkl\")\n",
    "pd.to_pickle(dist_list,path+\"test_porter_w2vecdist.pkl\")\n",
    "pd.to_pickle(X_w2v_te,path+\"test_porter_w2vecvector_diff.pkl\")"
   ]
  },
  {
   "cell_type": "code",
   "execution_count": null,
   "metadata": {
    "collapsed": false
   },
   "outputs": [],
   "source": [
    "train_df[['w2v_sim','w2v_dist']] .to_csv(\"wors2vecsim_train.csv\",index=False)\n",
    "test_df[['w2v_sim','w2v_dist']] .to_csv(\"wors2vecsim_test.csv\",index=False)"
   ]
  }
 ],
 "metadata": {
  "kernelspec": {
   "display_name": "Python 2",
   "language": "python",
   "name": "python2"
  },
  "language_info": {
   "codemirror_mode": {
    "name": "ipython",
    "version": 2
   },
   "file_extension": ".py",
   "mimetype": "text/x-python",
   "name": "python",
   "nbconvert_exporter": "python",
   "pygments_lexer": "ipython2",
   "version": "2.7.6"
  }
 },
 "nbformat": 4,
 "nbformat_minor": 1
}
