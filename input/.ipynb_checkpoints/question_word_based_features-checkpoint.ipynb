{
 "cells": [
  {
   "cell_type": "code",
   "execution_count": 7,
   "metadata": {
    "collapsed": true
   },
   "outputs": [],
   "source": [
    "import pandas as pd\n",
    "train=pd.read_csv(\"../input/train_porter.csv\")\n",
    "test=pd.read_csv(\"../input/test_porter.csv\")"
   ]
  },
  {
   "cell_type": "code",
   "execution_count": 5,
   "metadata": {
    "collapsed": true
   },
   "outputs": [],
   "source": [
    "questionwords=['who', 'what', 'when', 'where', 'why', 'how', 'is', 'can', 'does', 'do','WHICH', 'AM', 'ARE', 'WAS', 'WERE', 'MAY', 'MIGHT', 'CAN', 'COULD', 'WILL', 'SHALL', 'WOULD', 'SHOULD', 'HAS', 'HAVE', 'HAD','DID']\n",
    "questionwords=[val.lower() for val in questionwords]"
   ]
  },
  {
   "cell_type": "code",
   "execution_count": 8,
   "metadata": {
    "collapsed": false
   },
   "outputs": [],
   "source": [
    "trainquestiontypeFeatures=pd.DataFrame()\n",
    "testquestiontypeFeatures=pd.DataFrame()\n",
    "\n",
    "#train.question1_porter.str.startswith('who')"
   ]
  },
  {
   "cell_type": "code",
   "execution_count": 9,
   "metadata": {
    "collapsed": true
   },
   "outputs": [],
   "source": [
    "for col in questionwords:\n",
    "    trainquestiontypeFeatures[col+\"_q1\"]=train.question1_porter.str.startswith(col).astype(int)\n",
    "    trainquestiontypeFeatures[col+\"_q2\"]=train.question2_porter.str.startswith(col).astype(int)\n",
    "    testquestiontypeFeatures[col+\"_q1\"]=test.question1_porter.str.startswith(col).astype(int)\n",
    "    testquestiontypeFeatures[col+\"_q2\"]=test.question2_porter.str.startswith(col).astype(int)"
   ]
  },
  {
   "cell_type": "code",
   "execution_count": 10,
   "metadata": {
    "collapsed": true
   },
   "outputs": [],
   "source": [
    "trainquestiontypeFeatures['q1endwith?']=train.question1_porter.str.endswith('?')\n",
    "trainquestiontypeFeatures['q1endwith.']=train.question1_porter.str.endswith('.')\n",
    "trainquestiontypeFeatures['q1endwith!']=train.question1_porter.str.endswith('!')\n",
    "\n",
    "trainquestiontypeFeatures['q2endwith?']=train.question2_porter.str.endswith('?')\n",
    "trainquestiontypeFeatures['q2endwith.']=train.question2_porter.str.endswith('.')\n",
    "trainquestiontypeFeatures['q2endwith!']=train.question2_porter.str.endswith('!')\n"
   ]
  },
  {
   "cell_type": "code",
   "execution_count": 11,
   "metadata": {
    "collapsed": true
   },
   "outputs": [],
   "source": [
    "testquestiontypeFeatures['q1endwith?']=test.question1_porter.str.endswith('?')\n",
    "testquestiontypeFeatures['q1endwith.']=test.question1_porter.str.endswith('.')\n",
    "testquestiontypeFeatures['q1endwith!']=test.question1_porter.str.endswith('!')\n",
    "\n",
    "testquestiontypeFeatures['q2endwith?']=test.question2_porter.str.endswith('?')\n",
    "testquestiontypeFeatures['q2endwith.']=test.question2_porter.str.endswith('.')\n",
    "testquestiontypeFeatures['q2endwith!']=test.question2_porter.str.endswith('!')\n"
   ]
  },
  {
   "cell_type": "code",
   "execution_count": 13,
   "metadata": {
    "collapsed": false
   },
   "outputs": [],
   "source": [
    "from textblob import TextBlob\n",
    "\n",
    "testquestiontypeFeatures['q1sentiment']=test.question1_porter.apply(lambda x: TextBlob(str(x)).polarity)\n",
    "testquestiontypeFeatures['q2sentiment']=test.question2_porter.apply(lambda x: TextBlob(str(x)).polarity)\n",
    "\n",
    "trainquestiontypeFeatures['q1sentiment']=train.question1_porter.apply(lambda x: TextBlob(str(x)).polarity)\n",
    "trainquestiontypeFeatures['q2sentiment']=train.question2_porter.apply(lambda x: TextBlob(str(x)).polarity)\n",
    "\n",
    "testquestiontypeFeatures['q1subjectivity']=test.question1_porter.apply(lambda x: TextBlob(str(x)).subjectivity)\n",
    "testquestiontypeFeatures['q2subjectivity']=test.question2_porter.apply(lambda x: TextBlob(str(x)).subjectivity)\n",
    "\n",
    "\n",
    "trainquestiontypeFeatures['q1subjectivity']=train.question1_porter.apply(lambda x: TextBlob(str(x)).subjectivity)\n",
    "trainquestiontypeFeatures['q2subjectivity']=train.question2_porter.apply(lambda x: TextBlob(str(x)).subjectivity)"
   ]
  },
  {
   "cell_type": "code",
   "execution_count": 14,
   "metadata": {
    "collapsed": true
   },
   "outputs": [],
   "source": [
    "testquestiontypeFeatures['q1digits']=test.question1_porter.apply(lambda x: sum(c.isdigit() for c in str(x)))\n",
    "testquestiontypeFeatures['q2digits']=test.question2_porter.apply(lambda x: sum(c.isdigit() for c in str(x)))\n",
    "\n",
    "trainquestiontypeFeatures['q1digits']=train.question1_porter.apply(lambda x: sum(c.isdigit() for c in str(x)))\n",
    "trainquestiontypeFeatures['q2digits']=train.question2_porter.apply(lambda x: sum(c.isdigit() for c in str(x)))\n",
    "\n",
    "testquestiontypeFeatures['q1digits']=test.question1_porter.apply(lambda x: sum(c.isdigit() for c in str(x)))\n",
    "testquestiontypeFeatures['q2digits']=test.question2_porter.apply(lambda x: sum(c.isdigit() for c in str(x)))\n",
    "\n",
    "\n",
    "trainquestiontypeFeatures['q1digits']=train.question1_porter.apply(lambda x: sum(c.isdigit() for c in str(x)))\n",
    "trainquestiontypeFeatures['q2digits']=train.question2_porter.apply(lambda x: sum(c.isdigit() for c in str(x)))"
   ]
  },
  {
   "cell_type": "code",
   "execution_count": 15,
   "metadata": {
    "collapsed": true
   },
   "outputs": [],
   "source": [
    "testquestiontypeFeatures.to_csv(\"testquestiontypeFeatures.csv\",index=False)\n",
    "trainquestiontypeFeatures.to_csv(\"trainquestiontypeFeatures.csv\",index=False)"
   ]
  },
  {
   "cell_type": "code",
   "execution_count": null,
   "metadata": {
    "collapsed": false
   },
   "outputs": [
    {
     "name": "stderr",
     "output_type": "stream",
     "text": [
      "/usr/local/lib/python2.7/dist-packages/IPython/core/interactiveshell.py:2717: DtypeWarning: Columns (0,1,2,3,4,5,6,7,8,9,10,11,12,13,14,15,16,17,18,19,20,21,22,23,24,25,26,27,28,29,30,31,32,33,34,35,36,37,38,39,40,41,42,43,44,45,46,47,48,49,50,51,52,53,54,55,56,57) have mixed types. Specify dtype option on import or set low_memory=False.\n",
      "  interactivity=interactivity, compiler=compiler, result=result)\n"
     ]
    }
   ],
   "source": [
    "testquestiontypeFeatures=pd.read_csv(\"testquestiontypeFeatures.csv\")\n",
    "trainquestiontypeFeatures=pd.read_csv(\"trainquestiontypeFeatures.csv\")"
   ]
  },
  {
   "cell_type": "code",
   "execution_count": null,
   "metadata": {
    "collapsed": true
   },
   "outputs": [],
   "source": [
    "import numpy as np\n",
    "testquestiontypeFeatures=testquestiontypeFeatures.astype(np.float)"
   ]
  }
 ],
 "metadata": {
  "kernelspec": {
   "display_name": "Python 2",
   "language": "python",
   "name": "python2"
  },
  "language_info": {
   "codemirror_mode": {
    "name": "ipython",
    "version": 2
   },
   "file_extension": ".py",
   "mimetype": "text/x-python",
   "name": "python",
   "nbconvert_exporter": "python",
   "pygments_lexer": "ipython2",
   "version": "2.7.6"
  }
 },
 "nbformat": 4,
 "nbformat_minor": 1
}
