{
 "cells": [
  {
   "cell_type": "code",
   "execution_count": 7,
   "metadata": {
    "collapsed": true
   },
   "outputs": [],
   "source": [
    "import pandas as pd\n",
    "train=pd.read_csv(\"../input/train_porter.csv\")\n",
    "test=pd.read_csv(\"../input/test_porter.csv\")"
   ]
  },
  {
   "cell_type": "code",
   "execution_count": 5,
   "metadata": {
    "collapsed": true
   },
   "outputs": [],
   "source": [
    "questionwords=['who', 'what', 'when', 'where', 'why', 'how', 'is', 'can', 'does', 'do','WHICH', 'AM', 'ARE', 'WAS', 'WERE', 'MAY', 'MIGHT', 'CAN', 'COULD', 'WILL', 'SHALL', 'WOULD', 'SHOULD', 'HAS', 'HAVE', 'HAD','DID']\n",
    "questionwords=[val.lower() for val in questionwords]"
   ]
  },
  {
   "cell_type": "code",
   "execution_count": 8,
   "metadata": {
    "collapsed": false
   },
   "outputs": [],
   "source": [
    "trainquestiontypeFeatures=pd.DataFrame()\n",
    "testquestiontypeFeatures=pd.DataFrame()\n",
    "\n",
    "#train.question1_porter.str.startswith('who')"
   ]
  },
  {
   "cell_type": "code",
   "execution_count": 9,
   "metadata": {
    "collapsed": true
   },
   "outputs": [],
   "source": [
    "for col in questionwords:\n",
    "    trainquestiontypeFeatures[col+\"_q1\"]=train.question1_porter.str.startswith(col).astype(int)\n",
    "    trainquestiontypeFeatures[col+\"_q2\"]=train.question2_porter.str.startswith(col).astype(int)\n",
    "    testquestiontypeFeatures[col+\"_q1\"]=test.question1_porter.str.startswith(col).astype(int)\n",
    "    testquestiontypeFeatures[col+\"_q2\"]=test.question2_porter.str.startswith(col).astype(int)"
   ]
  },
  {
   "cell_type": "code",
   "execution_count": 10,
   "metadata": {
    "collapsed": true
   },
   "outputs": [],
   "source": [
    "trainquestiontypeFeatures['q1endwith?']=train.question1_porter.str.endswith('?')\n",
    "trainquestiontypeFeatures['q1endwith.']=train.question1_porter.str.endswith('.')\n",
    "trainquestiontypeFeatures['q1endwith!']=train.question1_porter.str.endswith('!')\n",
    "\n",
    "trainquestiontypeFeatures['q2endwith?']=train.question2_porter.str.endswith('?')\n",
    "trainquestiontypeFeatures['q2endwith.']=train.question2_porter.str.endswith('.')\n",
    "trainquestiontypeFeatures['q2endwith!']=train.question2_porter.str.endswith('!')\n"
   ]
  },
  {
   "cell_type": "code",
   "execution_count": 11,
   "metadata": {
    "collapsed": true
   },
   "outputs": [],
   "source": [
    "testquestiontypeFeatures['q1endwith?']=test.question1_porter.str.endswith('?')\n",
    "testquestiontypeFeatures['q1endwith.']=test.question1_porter.str.endswith('.')\n",
    "testquestiontypeFeatures['q1endwith!']=test.question1_porter.str.endswith('!')\n",
    "\n",
    "testquestiontypeFeatures['q2endwith?']=test.question2_porter.str.endswith('?')\n",
    "testquestiontypeFeatures['q2endwith.']=test.question2_porter.str.endswith('.')\n",
    "testquestiontypeFeatures['q2endwith!']=test.question2_porter.str.endswith('!')\n"
   ]
  },
  {
   "cell_type": "code",
   "execution_count": 13,
   "metadata": {
    "collapsed": false
   },
   "outputs": [],
   "source": [
    "from textblob import TextBlob\n",
    "\n",
    "testquestiontypeFeatures['q1sentiment']=test.question1_porter.apply(lambda x: TextBlob(str(x)).polarity)\n",
    "testquestiontypeFeatures['q2sentiment']=test.question2_porter.apply(lambda x: TextBlob(str(x)).polarity)\n",
    "\n",
    "trainquestiontypeFeatures['q1sentiment']=train.question1_porter.apply(lambda x: TextBlob(str(x)).polarity)\n",
    "trainquestiontypeFeatures['q2sentiment']=train.question2_porter.apply(lambda x: TextBlob(str(x)).polarity)\n",
    "\n",
    "testquestiontypeFeatures['q1subjectivity']=test.question1_porter.apply(lambda x: TextBlob(str(x)).subjectivity)\n",
    "testquestiontypeFeatures['q2subjectivity']=test.question2_porter.apply(lambda x: TextBlob(str(x)).subjectivity)\n",
    "\n",
    "\n",
    "trainquestiontypeFeatures['q1subjectivity']=train.question1_porter.apply(lambda x: TextBlob(str(x)).subjectivity)\n",
    "trainquestiontypeFeatures['q2subjectivity']=train.question2_porter.apply(lambda x: TextBlob(str(x)).subjectivity)"
   ]
  },
  {
   "cell_type": "code",
   "execution_count": 14,
   "metadata": {
    "collapsed": true
   },
   "outputs": [],
   "source": [
    "testquestiontypeFeatures['q1digits']=test.question1_porter.apply(lambda x: sum(c.isdigit() for c in str(x)))\n",
    "testquestiontypeFeatures['q2digits']=test.question2_porter.apply(lambda x: sum(c.isdigit() for c in str(x)))\n",
    "\n",
    "trainquestiontypeFeatures['q1digits']=train.question1_porter.apply(lambda x: sum(c.isdigit() for c in str(x)))\n",
    "trainquestiontypeFeatures['q2digits']=train.question2_porter.apply(lambda x: sum(c.isdigit() for c in str(x)))\n",
    "\n",
    "testquestiontypeFeatures['q1digits']=test.question1_porter.apply(lambda x: sum(c.isdigit() for c in str(x)))\n",
    "testquestiontypeFeatures['q2digits']=test.question2_porter.apply(lambda x: sum(c.isdigit() for c in str(x)))\n",
    "\n",
    "\n",
    "trainquestiontypeFeatures['q1digits']=train.question1_porter.apply(lambda x: sum(c.isdigit() for c in str(x)))\n",
    "trainquestiontypeFeatures['q2digits']=train.question2_porter.apply(lambda x: sum(c.isdigit() for c in str(x)))"
   ]
  },
  {
   "cell_type": "code",
   "execution_count": 21,
   "metadata": {
    "collapsed": true
   },
   "outputs": [],
   "source": [
    "testquestiontypeFeatures.to_csv(\"testquestiontypeFeatures.csv\",index=False)\n",
    "trainquestiontypeFeatures.to_csv(\"trainquestiontypeFeatures.csv\",index=False)"
   ]
  },
  {
   "cell_type": "code",
   "execution_count": 22,
   "metadata": {
    "collapsed": false
   },
   "outputs": [],
   "source": [
    "testquestiontypeFeatures=pd.read_csv(\"testquestiontypeFeatures.csv\")\n",
    "trainquestiontypeFeatures=pd.read_csv(\"trainquestiontypeFeatures.csv\")"
   ]
  },
  {
   "cell_type": "code",
   "execution_count": 19,
   "metadata": {
    "collapsed": true
   },
   "outputs": [],
   "source": [
    "import numpy as np\n",
    "testquestiontypeFeatures=testquestiontypeFeatures.astype(np.float64)\n",
    "trainquestiontypeFeatures=trainquestiontypeFeatures.astype(np.float64)"
   ]
  },
  {
   "cell_type": "code",
   "execution_count": 24,
   "metadata": {
    "collapsed": false
   },
   "outputs": [],
   "source": [
    "dicts={col : np.float64 for col in testquestiontypeFeatures.columns}"
   ]
  },
  {
   "cell_type": "code",
   "execution_count": 25,
   "metadata": {
    "collapsed": false
   },
   "outputs": [
    {
     "data": {
      "text/plain": [
       "{'am_q1': numpy.float64,\n",
       " 'am_q2': numpy.float64,\n",
       " 'are_q1': numpy.float64,\n",
       " 'are_q2': numpy.float64,\n",
       " 'can_q1': numpy.float64,\n",
       " 'can_q2': numpy.float64,\n",
       " 'could_q1': numpy.float64,\n",
       " 'could_q2': numpy.float64,\n",
       " 'did_q1': numpy.float64,\n",
       " 'did_q2': numpy.float64,\n",
       " 'do_q1': numpy.float64,\n",
       " 'do_q2': numpy.float64,\n",
       " 'does_q1': numpy.float64,\n",
       " 'does_q2': numpy.float64,\n",
       " 'had_q1': numpy.float64,\n",
       " 'had_q2': numpy.float64,\n",
       " 'has_q1': numpy.float64,\n",
       " 'has_q2': numpy.float64,\n",
       " 'have_q1': numpy.float64,\n",
       " 'have_q2': numpy.float64,\n",
       " 'how_q1': numpy.float64,\n",
       " 'how_q2': numpy.float64,\n",
       " 'is_q1': numpy.float64,\n",
       " 'is_q2': numpy.float64,\n",
       " 'may_q1': numpy.float64,\n",
       " 'may_q2': numpy.float64,\n",
       " 'might_q1': numpy.float64,\n",
       " 'might_q2': numpy.float64,\n",
       " 'q1digits': numpy.float64,\n",
       " 'q1endwith!': numpy.float64,\n",
       " 'q1endwith.': numpy.float64,\n",
       " 'q1endwith?': numpy.float64,\n",
       " 'q1sentiment': numpy.float64,\n",
       " 'q1subjectivity': numpy.float64,\n",
       " 'q2digits': numpy.float64,\n",
       " 'q2endwith!': numpy.float64,\n",
       " 'q2endwith.': numpy.float64,\n",
       " 'q2endwith?': numpy.float64,\n",
       " 'q2sentiment': numpy.float64,\n",
       " 'q2subjectivity': numpy.float64,\n",
       " 'shall_q1': numpy.float64,\n",
       " 'shall_q2': numpy.float64,\n",
       " 'should_q1': numpy.float64,\n",
       " 'should_q2': numpy.float64,\n",
       " 'was_q1': numpy.float64,\n",
       " 'was_q2': numpy.float64,\n",
       " 'were_q1': numpy.float64,\n",
       " 'were_q2': numpy.float64,\n",
       " 'what_q1': numpy.float64,\n",
       " 'what_q2': numpy.float64,\n",
       " 'when_q1': numpy.float64,\n",
       " 'when_q2': numpy.float64,\n",
       " 'where_q1': numpy.float64,\n",
       " 'where_q2': numpy.float64,\n",
       " 'which_q1': numpy.float64,\n",
       " 'which_q2': numpy.float64,\n",
       " 'who_q1': numpy.float64,\n",
       " 'who_q2': numpy.float64,\n",
       " 'why_q1': numpy.float64,\n",
       " 'why_q2': numpy.float64,\n",
       " 'will_q1': numpy.float64,\n",
       " 'will_q2': numpy.float64,\n",
       " 'would_q1': numpy.float64,\n",
       " 'would_q2': numpy.float64}"
      ]
     },
     "execution_count": 25,
     "metadata": {},
     "output_type": "execute_result"
    }
   ],
   "source": [
    "dicts"
   ]
  }
 ],
 "metadata": {
  "kernelspec": {
   "display_name": "Python 2",
   "language": "python",
   "name": "python2"
  },
  "language_info": {
   "codemirror_mode": {
    "name": "ipython",
    "version": 2
   },
   "file_extension": ".py",
   "mimetype": "text/x-python",
   "name": "python",
   "nbconvert_exporter": "python",
   "pygments_lexer": "ipython2",
   "version": "2.7.6"
  }
 },
 "nbformat": 4,
 "nbformat_minor": 1
}
